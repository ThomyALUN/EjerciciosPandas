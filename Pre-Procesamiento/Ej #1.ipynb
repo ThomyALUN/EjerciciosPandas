{
 "cells": [
  {
   "cell_type": "code",
   "execution_count": 32,
   "metadata": {},
   "outputs": [],
   "source": [
    "import pandas as pd"
   ]
  },
  {
   "cell_type": "code",
   "execution_count": 33,
   "metadata": {},
   "outputs": [],
   "source": [
    "# Función que genera nuevos indices numericos, desde 0 hasta n-1.\n",
    "# n: Númmero total de filas del DataFrame\n",
    "def nuevosIndices(tabla):\n",
    "    tabla.index=[i for i in range(len(tabla))]\n",
    "    return tabla\n",
    "\n",
    "def depurarColumnaIndices(tabla):\n",
    "    nombrePrimeraCol=tabla.columns[0]\n",
    "    primeraColumna=tabla[nombrePrimeraCol]\n",
    "    indices=tabla.index\n",
    "    if all([indices[i]==primeraColumna[i] for i in indices]):\n",
    "        tabla=tabla.drop([nombrePrimeraCol],axis=1)\n",
    "    return tabla\n",
    "\n",
    "# Función que elimina filas, teniendo en cuenta una columna de valores numéricos.\n",
    "# Se busca depurar las filas que contengan datos atípicos.\n",
    "def depurarNumeros(tabla, nombreCol, limInf, limSup):\n",
    "    indices=tabla.index\n",
    "    for i in indices:\n",
    "        fila=tabla.loc[i]\n",
    "        if fila[nombreCol]<limInf or fila[nombreCol]>limSup:\n",
    "            tabla=tabla.drop([i],axis=0)\n",
    "    tabla=nuevosIndices(tabla)\n",
    "    return tabla\n",
    "\n",
    "# Función que elimina columnas que tengan un porcentaje de valores indefinidos (NaN) demasiado grande para el problema a tratar.\n",
    "def depurarColumnas(tabla, porcentaje):\n",
    "    size=len(tabla)\n",
    "    columnas=tabla.columns\n",
    "    for columna in columnas:\n",
    "        booleanos=tabla[columna].notnull()\n",
    "        if sum(booleanos)<size*porcentaje:\n",
    "            tabla=tabla.drop([columna],axis=1)\n",
    "    tabla=nuevosIndices(tabla)\n",
    "    return tabla\n",
    "\n",
    "# Función que da información detallada de cada columna del DataFrame.\n",
    "# Usar con DataFrames grandes.\n",
    "def describirColumnas(tabla, factor):\n",
    "    size=len(tabla)\n",
    "    columnas=tabla.columns\n",
    "    for i in range(len(columnas)//factor+1):\n",
    "        subgrupo=columnas[0+i*factor:factor+i*factor]\n",
    "        print('*'*85+'SUBGRUPO #'+str(i+1)+'*'*85+'\\n')\n",
    "        print(datos[subgrupo].describe(include='all'))\n",
    "        input('\\nPresione la tecla Enter para mostrar el siguiente subgrupo.\\n')\n",
    "\n",
    "def mostrarColumnasNumericas(tabla):\n",
    "    pass\n",
    "\n",
    "def borrarColumnasInnecesarias(tabla,columnas):\n",
    "    for columna in columnas:\n",
    "        tabla=tabla.drop([columna],axis=1)\n",
    "    return tabla"
   ]
  },
  {
   "cell_type": "code",
   "execution_count": 34,
   "metadata": {},
   "outputs": [],
   "source": [
    "datos=pd.read_csv('fifa.csv')\n",
    "datos=depurarColumnaIndices(datos)\n",
    "datos=depurarColumnas(datos, 0.30)\n",
    "datos=depurarNumeros(datos, 'Age', 10, 100) #Se limita la edad en un rango entre 10 y 100 años"
   ]
  },
  {
   "cell_type": "code",
   "execution_count": 35,
   "metadata": {},
   "outputs": [],
   "source": [
    "columnasParaBorrar=['Photo', 'Flag', 'Club Logo']\n",
    "datos=borrarColumnasInnecesarias(datos, columnasParaBorrar)"
   ]
  },
  {
   "cell_type": "code",
   "execution_count": 41,
   "metadata": {},
   "outputs": [
    {
     "name": "stdout",
     "output_type": "stream",
     "text": [
      "ID              int64\n",
      "Name           object\n",
      "Age             int64\n",
      "Nationality    object\n",
      "Overall         int64\n",
      "Potential       int64\n",
      "Club           object\n",
      "Value          object\n",
      "Wage           object\n",
      "Special        object\n",
      "dtype: object\n"
     ]
    }
   ],
   "source": [
    "columnas=datos.columns\n",
    "setColumnas=columnas[0:10]\n",
    "print(datos[setColumnas].dtypes)"
   ]
  }
 ],
 "metadata": {
  "interpreter": {
   "hash": "fd53a4b1051e52e97d9510c5f4b39e6b7141e6b96ccced544fda1bb4fe6bafb6"
  },
  "kernelspec": {
   "display_name": "Python 3.10.4 64-bit",
   "language": "python",
   "name": "python3"
  },
  "language_info": {
   "codemirror_mode": {
    "name": "ipython",
    "version": 3
   },
   "file_extension": ".py",
   "mimetype": "text/x-python",
   "name": "python",
   "nbconvert_exporter": "python",
   "pygments_lexer": "ipython3",
   "version": "3.10.4"
  },
  "orig_nbformat": 4
 },
 "nbformat": 4,
 "nbformat_minor": 2
}
