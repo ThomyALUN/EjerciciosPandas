{
 "cells": [
  {
   "cell_type": "code",
   "execution_count": 1,
   "metadata": {},
   "outputs": [],
   "source": [
    "import pandas as pd"
   ]
  },
  {
   "cell_type": "code",
   "execution_count": 2,
   "metadata": {},
   "outputs": [],
   "source": [
    "# Función que genera nuevos indices numericos, desde 0 hasta n-1.\n",
    "# n: Númmero total de filas del DataFrame\n",
    "def nuevosIndices(tabla):\n",
    "    tabla.index=[i for i in range(len(tabla))]\n",
    "    return tabla\n",
    "\n",
    "def depurarColumnaIndices(tabla):\n",
    "    nombrePrimeraCol=tabla.columns[0]\n",
    "    primeraColumna=tabla[nombrePrimeraCol]\n",
    "    indices=tabla.index\n",
    "    if all([indices[i]==primeraColumna[i] for i in indices]):\n",
    "        tabla=tabla.drop([nombrePrimeraCol],axis=1)\n",
    "    return tabla\n",
    "\n",
    "# Función que elimina filas, teniendo en cuenta una columna de valores numéricos.\n",
    "# Se busca depurar las filas que contengan datos atípicos.\n",
    "def depurarNumeros(tabla, nombreCol, limInf, limSup):\n",
    "    indices=tabla.index\n",
    "    for i in indices:\n",
    "        fila=tabla.loc[i]\n",
    "        if fila[nombreCol]<limInf or fila[nombreCol]>limSup:\n",
    "            tabla=tabla.drop([i],axis=0)\n",
    "    tabla=nuevosIndices(tabla)\n",
    "    return tabla\n",
    "\n",
    "# Función que elimina columnas que tengan un porcentaje de valores indefinidos (NaN) demasiado grande para el problema a tratar.\n",
    "def depurarColumnas(tabla, porcentaje):\n",
    "    size=len(tabla)\n",
    "    columnas=tabla.columns\n",
    "    for columna in columnas:\n",
    "        booleanos=tabla[columna].notnull()\n",
    "        if sum(booleanos)<size*porcentaje:\n",
    "            tabla=tabla.drop([columna],axis=1)\n",
    "    tabla=nuevosIndices(tabla)\n",
    "    return tabla\n",
    "\n",
    "# Función que da información detallada de cada columna del DataFrame.\n",
    "# Usar con DataFrames grandes.\n",
    "def describirColumnas(tabla, factor):\n",
    "    size=len(tabla)\n",
    "    columnas=tabla.columns\n",
    "    for i in range(len(columnas)//factor+1):\n",
    "        subgrupo=columnas[0+i*factor:factor+i*factor]\n",
    "        print('*'*85+'SUBGRUPO #'+str(i+1)+'*'*85+'\\n')\n",
    "        print(datos[subgrupo].describe(include='all'))\n",
    "        input('\\nPresione la tecla Enter para mostrar el siguiente subgrupo.\\n')\n",
    "\n",
    "#Función que elimina grupos de columnas innecesarias.\n",
    "def borrarColumnasInnecesarias(tabla,columnas):\n",
    "    for columna in columnas:\n",
    "        tabla=tabla.drop([columna],axis=1)\n",
    "    return tabla\n",
    "\n",
    "#Función que desplaza los elementos de una fila hacia la izquierda, entre cierto rango de columnas.\n",
    "def moverHaciaIzquierda(tabla, posBooleanas, nombreColumna='Unnamed: 89', inicio=6, fin=None):\n",
    "    columnas=tabla.columns\n",
    "    if fin is None:\n",
    "        fin=len(columnas)\n",
    "    columnas=columnas[inicio:fin]\n",
    "    for j in range(len(posBooleanas)):\n",
    "        if posBooleanas[j]:\n",
    "            aux=tabla.loc[j, columnas[0]]\n",
    "            for i in range(len(columnas)-1):\n",
    "                tabla.loc[j, columnas[i]]=tabla.loc[j, columnas[i+1]]\n",
    "            tabla.loc[j, columnas[i+1]]=aux\n",
    "    return tabla"
   ]
  },
  {
   "cell_type": "code",
   "execution_count": 10,
   "metadata": {},
   "outputs": [],
   "source": [
    "#Columnas para borrar sin problema: 'Unnamed: 0', 'ID', 'Photo', 'Flag', 'Club Logo', 'Unnamed: 89'\n",
    "#Nota: La última columna hay que revisarla para mover unos datos.\n",
    "datos=pd.read_csv('fifa.csv')\n",
    "columnasParaBorrar=['Unnamed: 0','ID','Photo', 'Flag', 'Club Logo']\n",
    "datos=borrarColumnasInnecesarias(datos, columnasParaBorrar)"
   ]
  },
  {
   "cell_type": "code",
   "execution_count": 11,
   "metadata": {},
   "outputs": [],
   "source": [
    "#Se soluciona el problema de los datos desplazados y se elimina la columna 'Unnamed: 89'\n",
    "datos=moverHaciaIzquierda(datos, datos['Unnamed: 89'].notnull())\n",
    "datos=datos.drop(['Unnamed: 89'],axis=1)"
   ]
  },
  {
   "cell_type": "code",
   "execution_count": 13,
   "metadata": {},
   "outputs": [],
   "source": [
    "#Se toman las edades entre 15 y 100 como datos válidos y se halla un promedio de estos datos.\n",
    "#Posteriormente se reemplaza en aquellas filas con datos atípicos.\n",
    "subconjunto=datos[(datos['Age']>15) & (datos['Age']<100)] #Es necesario usar el ampersand y símbolos similares para realizar operaciones lógicas.\n",
    "promEdades=int(subconjunto['Age'].mean()//1)\n",
    "\n",
    "#.loc y .iloc permiten realizar el cambio de un valor dado un condicional o ubicaciones. \n",
    "#.replace se usa para cambiar valores específicos (el método se encarga de buscar sus posiciones).\n",
    "datos.loc[(datos['Age']<15) | (datos['Age']>100),'Age']=promEdades"
   ]
  },
  {
   "cell_type": "code",
   "execution_count": null,
   "metadata": {},
   "outputs": [],
   "source": [
    "#Mostrar la cantidad de datos NaN que hay en cada columna\n",
    "#Columnas sin valores NaN: Unnamed: 0, ID, Name, Age, Photo, Flag, Overall, Potential, Value, Wage, Special\n",
    "columnas=datos.columns\n",
    "setColumnas=columnas[80:90]\n",
    "print(datos[setColumnas].isnull().sum())"
   ]
  },
  {
   "cell_type": "code",
   "execution_count": null,
   "metadata": {},
   "outputs": [],
   "source": [
    "#Muestra el tipo de datos presente en cada columna de un grupo determinado de columnas.\n",
    "columnas=datos.columns\n",
    "setColumnas=columnas[0:10]\n",
    "print(datos[setColumnas].dtypes)"
   ]
  },
  {
   "cell_type": "code",
   "execution_count": 17,
   "metadata": {},
   "outputs": [],
   "source": [
    "#Guardar Dataframe depurado.\n",
    "datos.to_csv('nuevoFifa.csv')\n",
    "datos.to_excel('nuevoFifa.xlsx')"
   ]
  }
 ],
 "metadata": {
  "interpreter": {
   "hash": "cf90cbbb815e894b75ce2847351577e6d1e0a5057e3f6f98cc847be3b5db7ea3"
  },
  "kernelspec": {
   "display_name": "Python 3.8.3 64-bit",
   "language": "python",
   "name": "python3"
  },
  "language_info": {
   "codemirror_mode": {
    "name": "ipython",
    "version": 3
   },
   "file_extension": ".py",
   "mimetype": "text/x-python",
   "name": "python",
   "nbconvert_exporter": "python",
   "pygments_lexer": "ipython3",
   "version": "3.8.3"
  },
  "orig_nbformat": 4
 },
 "nbformat": 4,
 "nbformat_minor": 2
}
